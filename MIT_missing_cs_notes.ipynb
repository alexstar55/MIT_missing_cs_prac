{
 "cells": [
  {
   "cell_type": "markdown",
   "metadata": {},
   "source": [
    "## Lec 04 Data Wrangling  \n",
    "[课程链接](https://missing.csail.mit.edu/2020/data-wrangling/)"
   ]
  },
  {
   "cell_type": "markdown",
   "metadata": {
    "collapsed": true
   },
   "source": [
    "### sed练习  \n",
    "新建test.txt，内容：  \n",
    "```\n",
    "you are a  boy.\n",
    "hello\n",
    "my name is han.\n",
    "hello\n",
    "hello,how do you do.\n",
    "hello\n",
    "nice to meet you. good job\n",
    "```\n",
    "\n",
    "nl是给内容编行号，sed后面字符串里的/p，是显示行"
   ]
  },
  {
   "cell_type": "code",
   "execution_count": 12,
   "metadata": {},
   "outputs": [
    {
     "name": "stdout",
     "output_type": "stream",
     "text": [
      "you are a clever boy.\r\n",
      "hello\r\n",
      "my name is han.\r\n",
      "He is a smart boy.\r\n",
      "hello\r\n",
      "hello,how do you do.\r\n",
      "He is a cool boy.\r\n",
      "hello\r\n",
      "nice to meet you. good job.\r\n"
     ]
    }
   ],
   "source": [
    "!cat test.txt"
   ]
  },
  {
   "cell_type": "markdown",
   "metadata": {},
   "source": [
    "[这里](https://www.runoob.com/linux/linux-comm-sed.html)，有sed的基本使用（掘金），包括原文操作（危险，使用-i）。这个是[简明教程](https://coolshell.cn/articles/9104.html)。  \n",
    "搜索，替换，都会把原文再显示一遍，使用-n后则只会显示处理（操作）的结果。"
   ]
  },
  {
   "cell_type": "code",
   "execution_count": 14,
   "metadata": {
    "scrolled": true
   },
   "outputs": [
    {
     "name": "stdout",
     "output_type": "stream",
     "text": [
      "     1\tyou are a clever boy.\r\n",
      "     4\tHe is a smart boy.\r\n",
      "     7\tHe is a cool boy.\r\n"
     ]
    }
   ],
   "source": [
    "!nl test.txt | sed -n '/boy/p'"
   ]
  },
  {
   "cell_type": "markdown",
   "metadata": {},
   "source": [
    "关于分组，另见[这里](https://juejin.im/post/5e1016e05188253a860d464a)。匹配e-mail，见[这里](https://www.regular-expressions.info/email.html)。"
   ]
  },
  {
   "cell_type": "code",
   "execution_count": 48,
   "metadata": {
    "scrolled": true
   },
   "outputs": [
    {
     "name": "stdout",
     "output_type": "stream",
     "text": [
      "      1 clever.\r\n",
      "      1 cool.\r\n",
      "      1 hello,how do you do.\r\n",
      "      1 my name is han.\r\n",
      "      1 nice to meet you. good job.\r\n",
      "      1 smart.\r\n",
      "      3 hello\r\n"
     ]
    }
   ],
   "source": [
    "!sed -E 's/.* (\\w+) boy/\\1/' test.txt|sort | uniq -c | sort -nk1,1 "
   ]
  },
  {
   "cell_type": "markdown",
   "metadata": {},
   "source": [
    "### awk – another editor"
   ]
  },
  {
   "cell_type": "code",
   "execution_count": 54,
   "metadata": {
    "scrolled": true
   },
   "outputs": [
    {
     "name": "stdout",
     "output_type": "stream",
     "text": [
      "smart.\r\n",
      "hello\r\n"
     ]
    }
   ],
   "source": [
    "!sed -E 's/.* (\\w+) boy/\\1/' test.txt|sort | uniq -c | sort -nk1,1 | tail -n2 | awk '{print $2}' "
   ]
  },
  {
   "cell_type": "code",
   "execution_count": null,
   "metadata": {
    "collapsed": true
   },
   "outputs": [],
   "source": []
  }
 ],
 "metadata": {
  "kernelspec": {
   "display_name": "Python [conda env:py36]",
   "language": "python",
   "name": "conda-env-py36-py"
  },
  "language_info": {
   "codemirror_mode": {
    "name": "ipython",
    "version": 3
   },
   "file_extension": ".py",
   "mimetype": "text/x-python",
   "name": "python",
   "nbconvert_exporter": "python",
   "pygments_lexer": "ipython3",
   "version": "3.6.7"
  },
  "toc": {
   "base_numbering": 1,
   "nav_menu": {},
   "number_sections": true,
   "sideBar": true,
   "skip_h1_title": false,
   "title_cell": "Table of Contents",
   "title_sidebar": "Contents",
   "toc_cell": false,
   "toc_position": {},
   "toc_section_display": true,
   "toc_window_display": false
  },
  "varInspector": {
   "cols": {
    "lenName": 16,
    "lenType": 16,
    "lenVar": 40
   },
   "kernels_config": {
    "python": {
     "delete_cmd_postfix": "",
     "delete_cmd_prefix": "del ",
     "library": "var_list.py",
     "varRefreshCmd": "print(var_dic_list())"
    },
    "r": {
     "delete_cmd_postfix": ") ",
     "delete_cmd_prefix": "rm(",
     "library": "var_list.r",
     "varRefreshCmd": "cat(var_dic_list()) "
    }
   },
   "types_to_exclude": [
    "module",
    "function",
    "builtin_function_or_method",
    "instance",
    "_Feature"
   ],
   "window_display": false
  }
 },
 "nbformat": 4,
 "nbformat_minor": 2
}
