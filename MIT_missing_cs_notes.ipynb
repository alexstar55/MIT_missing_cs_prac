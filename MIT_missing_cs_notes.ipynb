{
 "cells": [
  {
   "cell_type": "markdown",
   "metadata": {},
   "source": [
    "## Lec 01, 02 Shell    \n",
    "In this lecture, we will focus on the Bourne Again SHell, or “bash” for short. This is one of the most widely used shells, and its syntax is similar to what you will see in many other shells. To open a shell prompt (where you can type commands), you first need a terminal. Your device probably shipped with one installed, or you can install one fairly easily.  \n",
    "### Using the shell"
   ]
  },
  {
   "cell_type": "code",
   "execution_count": 1,
   "metadata": {
    "scrolled": true
   },
   "outputs": [
    {
     "name": "stdout",
     "output_type": "stream",
     "text": [
      "2020年 08月 13日 星期四 12:47:35 CST\r\n"
     ]
    }
   ],
   "source": [
    "!date"
   ]
  },
  {
   "cell_type": "code",
   "execution_count": 15,
   "metadata": {},
   "outputs": [
    {
     "name": "stdout",
     "output_type": "stream",
     "text": [
      "hello\r\n"
     ]
    }
   ],
   "source": [
    "!echo hello"
   ]
  },
  {
   "cell_type": "markdown",
   "metadata": {},
   "source": [
    "The echo program simply prints out its arguments. The shell parses the command by splitting it by whitespace, and then runs the program indicated by the first word, supplying each subsequent word as an argument that the program can access. If you want to provide an argument that contains spaces or other special characters (e.g., a directory named “My Photos”), you can either quote the argument with ' or \" (\"My Photos\"), or escape just the relevant characters with \\ (My\\ Photos).  \n",
    "But how does the shell know how to find the date or echo programs? Well, the shell is a programming environment, just like Python or Ruby, and so it has variables, conditionals, loops, and functions (next lecture!). When you run commands in your shell, you are really writing a small bit of code that your shell interprets. If the shell is asked to execute a command that doesn’t match one of its programming keywords, it consults an environment variable called $PATH that lists which directories the shell should search for programs when it is given a command:"
   ]
  },
  {
   "cell_type": "code",
   "execution_count": 16,
   "metadata": {},
   "outputs": [
    {
     "name": "stdout",
     "output_type": "stream",
     "text": [
      "/home/alex/anaconda3/envs/py36/bin:/home/alex/anaconda3/condabin:/home/alex/anaconda3/bin:/home/10156638/bin:/home/10156638/.local/bin:/home/alex/anaconda3/bin:/usr/local/cuda-9.0/bin:/home/alex/github/swig-3.0.12/bin:/home/alex/anaconda3/bin:/home/10156638/bin:/home/10156638/.local/bin:/usr/local/cuda-9.0/bin:/home/alex/github/swig-3.0.12/bin:/usr/local/sbin:/usr/local/bin:/usr/sbin:/usr/bin:/sbin:/bin:/usr/games:/usr/local/games:/snap/bin:/opt/maven/apache-maven-3.6.3/bin:/opt/maven/apache-maven-3.6.3/bin\r\n"
     ]
    }
   ],
   "source": [
    "!echo $PATH"
   ]
  },
  {
   "cell_type": "code",
   "execution_count": 17,
   "metadata": {},
   "outputs": [
    {
     "name": "stdout",
     "output_type": "stream",
     "text": [
      "/bin/echo\r\n"
     ]
    }
   ],
   "source": [
    "!which echo"
   ]
  },
  {
   "cell_type": "code",
   "execution_count": 19,
   "metadata": {},
   "outputs": [
    {
     "name": "stdout",
     "output_type": "stream",
     "text": [
      "/home/alex/anaconda3/envs/py36/bin:/home/alex/anaconda3/condabin:/home/alex/anaconda3/bin:/home/10156638/bin:/home/10156638/.local/bin:/home/alex/anaconda3/bin:/usr/local/cuda-9.0/bin:/home/alex/github/swig-3.0.12/bin:/home/alex/anaconda3/bin:/home/10156638/bin:/home/10156638/.local/bin:/usr/local/cuda-9.0/bin:/home/alex/github/swig-3.0.12/bin:/usr/local/sbin:/usr/local/bin:/usr/sbin:/usr/bin:/sbin:/bin:/usr/games:/usr/local/games:/snap/bin:/opt/maven/apache-maven-3.6.3/bin:/opt/maven/apache-maven-3.6.3/bin\r\n"
     ]
    }
   ],
   "source": [
    "!/bin/echo $PATH"
   ]
  },
  {
   "cell_type": "markdown",
   "metadata": {},
   "source": [
    "When we run the echo command, the shell sees that it should execute the program echo, and then searches through the :-separated list of directories in \\$PATH for a file by that name. When it finds it, it runs it (assuming the file is executable; more on that later). We can find out which file is executed for a given program name using the which program. We can also bypass $PATH entirely by giving the path to the file we want to execute."
   ]
  },
  {
   "cell_type": "markdown",
   "metadata": {},
   "source": [
    "### Navigating in the shell"
   ]
  },
  {
   "cell_type": "markdown",
   "metadata": {},
   "source": [
    "A path that starts with / is called an absolute path. Any other path is a relative path. Relative paths are relative to the current working directory, which we can see with the pwd command and change with the cd command. In a path, . refers to the current directory, and .. to its parent directory.  \n",
    "To see what lives in a given directory, we use the ls command:  \n"
   ]
  },
  {
   "cell_type": "code",
   "execution_count": 21,
   "metadata": {},
   "outputs": [
    {
     "name": "stdout",
     "output_type": "stream",
     "text": [
      "1885_2019102911.png  1904  1908  1912\t\t      json2row.log  图片4.jpg\r\n",
      "1901\t\t     1905  1909  1957_2019102911.png  keeplearning  图片5.jpg\r\n",
      "1902\t\t     1906  1910  1960_2019102911.png  venv\t    抓视频\r\n",
      "1903\t\t     1907  1911  2020_1\t\t      图片3.jpg     资料\r\n"
     ]
    }
   ],
   "source": [
    "!ls .."
   ]
  },
  {
   "cell_type": "markdown",
   "metadata": {},
   "source": [
    "Unless a directory is given as its first argument, ls will print the contents of the current directory. Most commands accept flags and options (flags with values) that start with - to modify their behavior. Usually, running a program with the -h or --help flag (/? on Windows) will print some help text that tells you what flags and options are available."
   ]
  },
  {
   "cell_type": "code",
   "execution_count": 24,
   "metadata": {},
   "outputs": [
    {
     "name": "stdout",
     "output_type": "stream",
     "text": [
      "-rwxrwxrwx 1 alex alex 10142 5月   7  2019 ./bbox_dataset.csv\r\n"
     ]
    }
   ],
   "source": [
    "!ls -l ./bbox_dataset.csv"
   ]
  },
  {
   "cell_type": "markdown",
   "metadata": {},
   "source": [
    "This gives us a bunch more information about each file or directory present. First, the d at the beginning of the line tells us that missing is a directory. Then follow three groups of three characters (rwx). These indicate what permissions the owner of the file (missing), the owning group (users), and everyone else respectively have on the relevant item. A - indicates that the given principal does not have the given permission. Above, only the owner is allowed to modify (w) the missing directory (i.e., add/remove files in it). To enter a directory, a user must have “search” (represented by “execute”: x) permissions on that directory (and its parents). To list its contents, a user must have read (r) permissions on that directory. For files, the permissions are as you would expect. Notice that nearly all the files in /bin have the x permission set for the last group, “everyone else”, so that anyone can execute those programs.  \n",
    "Some other handy programs to know about at this point are mv (to rename/move a file), cp (to copy a file), and mkdir (to make a new directory).\n",
    "\n",
    "If you ever want more information about a program’s arguments, inputs, outputs, or how it works in general, give the man program a try. It takes as an argument the name of a program, and shows you its manual page. Press q to exit."
   ]
  },
  {
   "cell_type": "markdown",
   "metadata": {},
   "source": [
    "### Connecting programs   \n",
    "In the shell, programs have two primary “streams” associated with them: their input stream and their output stream. When the program tries to read input, it reads from the input stream, and when it prints something, it prints to its output stream. Normally, a program’s input and output are both your terminal. That is, your keyboard as input and your screen as output. However, we can also rewire those streams!  \n",
    "The simplest form of redirection is < file and > file. These let you rewire the input and output streams of a program to a file respectively"
   ]
  },
  {
   "cell_type": "code",
   "execution_count": 26,
   "metadata": {
    "collapsed": true
   },
   "outputs": [],
   "source": [
    "!echo hello > hello.txt"
   ]
  },
  {
   "cell_type": "code",
   "execution_count": 27,
   "metadata": {},
   "outputs": [
    {
     "name": "stdout",
     "output_type": "stream",
     "text": [
      "hello\r\n"
     ]
    }
   ],
   "source": [
    "!cat hello.txt"
   ]
  },
  {
   "cell_type": "markdown",
   "metadata": {},
   "source": [
    "关于[cat命令，详见这里](https://blog.csdn.net/jackalfly/article/details/7556848)  \n",
    "cat主要有三大功能：\n",
    "1.一次显示整个文件。\n",
    "\\$cat filename;  2.从键盘创建一个文件。\n",
    "\\$cat  >  filename\n",
    "只能创建新文件,不能编辑已有文件;\n",
    "3.将几个文件合并为一个文件。\n",
    "\\$cat   file1   file2  > file"
   ]
  },
  {
   "cell_type": "markdown",
   "metadata": {},
   "source": [
    "You can also use >> to append to a file. Where this kind of input/output redirection really shines is in the use of pipes. The | operator lets you “chain” programs such that the output of one is the input of another:"
   ]
  },
  {
   "cell_type": "markdown",
   "metadata": {},
   "source": [
    "> curl --head --silent google.com | grep --ignore-case content-length | cut --delimiter=' ' -f2"
   ]
  },
  {
   "cell_type": "markdown",
   "metadata": {},
   "source": [
    "We will go into a lot more detail about how to take advantage of pipes in the lecture on data wrangling."
   ]
  },
  {
   "cell_type": "markdown",
   "metadata": {},
   "source": [
    "### A versatile and powerful tool  \n",
    "On most Unix-like systems, one user is special: the “root” user. You may have seen it in the file listings above. The root user is above (almost) all access restrictions, and can create, read, update, and delete any file in the system. You will not usually log into your system as the root user though, since it’s too easy to accidentally break something. Instead, you will be using the sudo command.  \n",
    "One thing you need to be root in order to do is writing to the sysfs file system mounted under /sys. sysfs exposes a number of kernel parameters as files, so that you can easily reconfigure the kernel on the fly without specialized tools. Note that sysfs does not exist on Windows or macOS.  \n",
    "For example, the brightness of your laptop’s screen is exposed through a file called brightness under:  \n",
    "> /sys/class/backlight  \n",
    "\n",
    "By writing a value into that file, we can change the screen brightness. Your first instinct might be to do something like:\n",
    "```\n",
    "$ sudo find -L /sys/class/backlight -maxdepth 2 -name '*brightness*'\n",
    "/sys/class/backlight/thinkpad_screen/brightness\n",
    "$ cd /sys/class/backlight/thinkpad_screen\n",
    "$ sudo echo 3 > brightness\n",
    "An error occurred while redirecting file 'brightness'\n",
    "open: Permission denied\n",
    "``` \n",
    "\n",
    "This error may come as a surprise. After all, we ran the command with sudo! This is an important thing to know about the shell. Operations like |, >, and < are done by the shell, not by the individual program. echo and friends do not “know” about |. They just read from their input and write to their output, whatever it may be. In the case above, the shell (which is authenticated just as your user) tries to open the brightness file for writing, before setting that as sudo echo’s output, but is prevented from doing so since the shell does not run as root. Using this knowledge, we can work around this:\n",
    "```\n",
    "$ echo 3 | sudo tee brightness\n",
    "```"
   ]
  },
  {
   "cell_type": "markdown",
   "metadata": {},
   "source": [
    "Since the tee program is the one to open the /sys file for writing, and it is running as root, the permissions all work out. You can control all sorts of fun and useful things through /sys, such as the state of various system LEDs (your path might be different):  \n",
    "> $ echo 1 | sudo tee /sys/class/leds/input6::scrolllock/brightness\n"
   ]
  },
  {
   "cell_type": "markdown",
   "metadata": {},
   "source": [
    "## Lec 04 Data Wrangling  \n",
    "[课程链接](https://missing.csail.mit.edu/2020/data-wrangling/)"
   ]
  },
  {
   "cell_type": "markdown",
   "metadata": {
    "collapsed": true
   },
   "source": [
    "### sed练习  \n",
    "新建test.txt，内容：  \n",
    "```\n",
    "you are a  boy.\n",
    "hello\n",
    "my name is han.\n",
    "hello\n",
    "hello,how do you do.\n",
    "hello\n",
    "nice to meet you. good job\n",
    "```\n",
    "\n",
    "nl是给内容编行号，sed后面字符串里的/p，是显示行"
   ]
  },
  {
   "cell_type": "code",
   "execution_count": 2,
   "metadata": {},
   "outputs": [
    {
     "name": "stdout",
     "output_type": "stream",
     "text": [
      "you are a clever boy.\r\n",
      "hello\r\n",
      "my name is han.\r\n",
      "He is a smart boy.\r\n",
      "hello\r\n",
      "hello,how do you do.\r\n",
      "He is a cool boy.\r\n",
      "hello\r\n",
      "nice to meet you. good job.\r\n"
     ]
    }
   ],
   "source": [
    "!cat test.txt"
   ]
  },
  {
   "cell_type": "markdown",
   "metadata": {},
   "source": [
    "[这里](https://www.runoob.com/linux/linux-comm-sed.html)，有sed的基本使用（掘金），包括原文操作（危险，使用-i）。这个是[简明教程](https://coolshell.cn/articles/9104.html)。  \n",
    "搜索，替换，都会把原文再显示一遍，使用-n后则只会显示处理（操作）的结果。"
   ]
  },
  {
   "cell_type": "code",
   "execution_count": 3,
   "metadata": {
    "scrolled": true
   },
   "outputs": [
    {
     "name": "stdout",
     "output_type": "stream",
     "text": [
      "     1\tyou are a clever boy.\r\n",
      "     4\tHe is a smart boy.\r\n",
      "     7\tHe is a cool boy.\r\n"
     ]
    }
   ],
   "source": [
    "!nl test.txt | sed -n '/boy/p'"
   ]
  },
  {
   "cell_type": "markdown",
   "metadata": {},
   "source": [
    "关于分组，另见[这里](https://juejin.im/post/5e1016e05188253a860d464a)。匹配e-mail，见[这里](https://www.regular-expressions.info/email.html)。"
   ]
  },
  {
   "cell_type": "code",
   "execution_count": 4,
   "metadata": {
    "scrolled": true
   },
   "outputs": [
    {
     "name": "stdout",
     "output_type": "stream",
     "text": [
      "      1 clever.\r\n",
      "      1 cool.\r\n",
      "      1 hello,how do you do.\r\n",
      "      1 my name is han.\r\n",
      "      1 nice to meet you. good job.\r\n",
      "      1 smart.\r\n",
      "      3 hello\r\n"
     ]
    }
   ],
   "source": [
    "!sed -E 's/.* (\\w+) boy/\\1/' test.txt|sort | uniq -c | sort -nk1,1 "
   ]
  },
  {
   "cell_type": "markdown",
   "metadata": {},
   "source": [
    "### awk – another editor"
   ]
  },
  {
   "cell_type": "code",
   "execution_count": 5,
   "metadata": {
    "scrolled": false
   },
   "outputs": [
    {
     "name": "stdout",
     "output_type": "stream",
     "text": [
      "smart.\r\n",
      "hello\r\n"
     ]
    }
   ],
   "source": [
    "!sed -E 's/.* (\\w+) boy/\\1/' test.txt|sort | uniq -c | sort -nk1,1 | tail -n2 | awk '{print $2}' "
   ]
  },
  {
   "cell_type": "markdown",
   "metadata": {},
   "source": [
    "There’s a lot to unpack here. First, notice that we now have a pattern (the stuff that goes before {...}). The pattern says that the first field of the line should be equal to 1 (that’s the count from uniq -c), and that the second field should match the given regular expression. And the block just says to print the username. We then count the number of lines in the output with wc -l."
   ]
  },
  {
   "cell_type": "code",
   "execution_count": 6,
   "metadata": {},
   "outputs": [
    {
     "name": "stdout",
     "output_type": "stream",
     "text": [
      "1\r\n",
      "3\r\n"
     ]
    }
   ],
   "source": [
    "!sed -E 's/.* (\\w+) boy/\\1/' test.txt|sort | uniq -c | sort -nk1,1 | tail -n2 | awk '{print $1}' "
   ]
  },
  {
   "cell_type": "code",
   "execution_count": 7,
   "metadata": {},
   "outputs": [
    {
     "name": "stdout",
     "output_type": "stream",
     "text": [
      "      1 smart.\r\n",
      "      3 hello\r\n"
     ]
    }
   ],
   "source": [
    "!sed -E 's/.* (\\w+) boy/\\1/' test.txt|sort | uniq -c | sort -nk1,1 | tail -n2 | awk '{print $0}' "
   ]
  },
  {
   "cell_type": "code",
   "execution_count": 8,
   "metadata": {},
   "outputs": [
    {
     "name": "stdout",
     "output_type": "stream",
     "text": [
      "clever.\r\n"
     ]
    }
   ],
   "source": [
    "!sed -E 's/.* (\\w+) boy/\\1/' test.txt|sort | uniq -c | sort -nk1,1 |awk '$1 == 1 && $2 ~ /^c[^ ]*e../ { print $2 }' "
   ]
  },
  {
   "cell_type": "code",
   "execution_count": 9,
   "metadata": {},
   "outputs": [
    {
     "name": "stdout",
     "output_type": "stream",
     "text": [
      "1\r\n"
     ]
    }
   ],
   "source": [
    "!sed -E 's/.* (\\w+) boy/\\1/' test.txt|sort | uniq -c | sort -nk1,1 |awk '$1 == 1 && $2 ~ /^c[^ ]*e../ { print $2 }' | wc -l"
   ]
  },
  {
   "cell_type": "markdown",
   "metadata": {},
   "source": [
    "wc -l打印count行，-w print word counts, -m print character counts  \n",
    "另，利用wc指令我们可以计算文件的Byte数、字数、或是列数，若不指定文件名称、或是所给予的文件名为\"-\"，则wc指令会从标准输入设备读取数据。更多关于wc的使用，见[这里](https://www.runoob.com/linux/linux-comm-wc.html)  \n",
    "However, awk is a programming language, remember?  \n",
    "```\n",
    "BEGIN { rows = 0 }\n",
    "$1 == 1 && $2 ~ /^c[^ ]*e$/ { rows += $1 }\n",
    "END { print rows }\n",
    "```\n",
    "Insert the code above can get the same result, as below.\n",
    "BEGIN is a pattern that matches the start of the input (and END matches the end). Now, the per-line block just adds the count from the first field (although it’ll always be 1 in this case), and then we print it out at the end. In fact, we could get rid of grep and sed entirely, because awk [can do it all](https://backreference.org/2010/02/10/idiomatic-awk/)"
   ]
  },
  {
   "cell_type": "code",
   "execution_count": 10,
   "metadata": {},
   "outputs": [
    {
     "name": "stdout",
     "output_type": "stream",
     "text": [
      "1\r\n"
     ]
    }
   ],
   "source": [
    "!sed -E 's/.* (\\w+) boy/\\1/' test.txt|sort | uniq -c | sort -nk1,1 |awk 'BEGIN { rows = 0 };$1 == 1 && $2 ~ /^c[^ ]*e../ { rows += $1 };END { print rows }'"
   ]
  },
  {
   "cell_type": "markdown",
   "metadata": {},
   "source": [
    "### Analyzing data   \n",
    "#### bc\n",
    "You can do math directly in your shell using bc, a calculator that can read from STDIN! For example, add the numbers on each line together by concatenating them together, delimited by +:"
   ]
  },
  {
   "cell_type": "code",
   "execution_count": 11,
   "metadata": {},
   "outputs": [
    {
     "name": "stdout",
     "output_type": "stream",
     "text": [
      "      1 clever.\r\n",
      "      1 cool.\r\n",
      "      1 hello,how do you do.\r\n",
      "      1 my name is han.\r\n",
      "      1 nice to meet you. good job.\r\n",
      "      1 smart.\r\n",
      "      3 hello\r\n"
     ]
    }
   ],
   "source": [
    "!sed -E 's/.* (\\w+) boy/\\1/' test.txt|sort | uniq -c | sort -nk1,1 "
   ]
  },
  {
   "cell_type": "code",
   "execution_count": 12,
   "metadata": {},
   "outputs": [
    {
     "name": "stdout",
     "output_type": "stream",
     "text": [
      "1+1+3+1+1+1+1\r\n"
     ]
    }
   ],
   "source": [
    "!sed -E 's/.* (\\w+) boy/\\1/' test.txt|sort | uniq -c | awk '{print $1}'|paste -sd+ "
   ]
  },
  {
   "cell_type": "code",
   "execution_count": 13,
   "metadata": {},
   "outputs": [
    {
     "name": "stdout",
     "output_type": "stream",
     "text": [
      "9\r\n"
     ]
    }
   ],
   "source": [
    "!sed -E 's/.* (\\w+) boy/\\1/' test.txt|sort | uniq -c | awk '{print $1}'|paste -sd+|bc -l"
   ]
  },
  {
   "cell_type": "markdown",
   "metadata": {},
   "source": [
    "#### R\n",
    "R is another (weird) programming language that’s great at data analysis and [plotting](https://ggplot2.tidyverse.org/). We won’t go into too much detail, but suffice to say that summary prints summary statistics for a vector, and we created a vector containing the input stream of numbers, so R gives us the statistics we wanted!"
   ]
  },
  {
   "cell_type": "code",
   "execution_count": 14,
   "metadata": {
    "scrolled": true
   },
   "outputs": [
    {
     "name": "stdout",
     "output_type": "stream",
     "text": [
      "   Min. 1st Qu.  Median    Mean 3rd Qu.    Max. \r\n",
      "  1.000   1.000   1.000   1.286   1.000   3.000 \r\n"
     ]
    }
   ],
   "source": [
    "!sed -E 's/.* (\\w+) boy/\\1/' test.txt|sort | uniq -c | awk '{print $1}'| R --slave -e 'x <- scan(file=\"stdin\", quiet=TRUE); summary(x)'"
   ]
  },
  {
   "cell_type": "markdown",
   "metadata": {},
   "source": [
    "If you just want some simple plotting, gnuplot is your friend. [Install gnuplot](https://blog.csdn.net/yanerhao/article/details/53215289)"
   ]
  },
  {
   "cell_type": "markdown",
   "metadata": {},
   "source": [
    "#### xarg    \n",
    "Xarg is a tool to translate standard output(things behind \"|\") to input parameter. An introduction of xarg can be found [here](https://www.ruanyifeng.com/blog/2019/08/xargs-tutorial.html)  \n",
    "For example, I can use the following command to uninstall old nightly builds of Rust from my system by extracting the old build names using data wrangling tools and then passing them via xargs to the uninstaller:  \n",
    "```\n",
    "rustup toolchain list | grep nightly | grep -vE \"nightly-x86\" | sed 's/-x86.*//' | xargs rustup toolchain uninstall\n",
    "\n",
    "```"
   ]
  },
  {
   "cell_type": "markdown",
   "metadata": {
    "collapsed": true
   },
   "source": [
    "#### Wrangling binary data"
   ]
  },
  {
   "cell_type": "markdown",
   "metadata": {},
   "source": [
    "So far, we have mostly talked about wrangling textual data, but pipes are just as useful for binary data. For example, we can use ffmpeg to capture an image from our camera, convert it to grayscale, compress it, send it to a remote machine over SSH, decompress it there, make a copy, and then display it.\n",
    "```\n",
    "ffmpeg -loglevel panic -i /dev/video0 -frames 1 -f image2 -\n",
    " | convert - -colorspace gray -\n",
    " | gzip\n",
    " | ssh mymachine 'gzip -d | tee copy.jpg | env DISPLAY=:0 feh -'\n",
    "```"
   ]
  },
  {
   "cell_type": "markdown",
   "metadata": {},
   "source": [
    "## Lec05 Command-line Environment  \n",
    "In this lecture we will go through several ways in which you can improve your workflow when using the shell. We have been working with the shell for a while now, but we have mainly focused on executing different commands. We will now see how to run several processes at the same time while keeping track of them, how to stop or pause a specific process and how to make a process run in the background.\n",
    "\n",
    "We will also learn about different ways to improve your shell and other tools, by defining aliases and configuring them using dotfiles. Both of these can help you save time, e.g. by using the same configurations in all your machines without having to type long commands. We will look at how to work with remote machines using SSH.  \n",
    "\n",
    "### Job Control  \n",
    "In some cases you will need to interrupt a job while it is executing, for instance if a command is taking too long to complete (such as a find with a very large directory structure to search through). Most of the time, you can do Ctrl-C and the command will stop. But how does this actually work and why does it sometimes fail to stop the process?   \n",
    "\n",
    "#### Killing a process  \n",
    "Your shell is using a UNIX communication mechanism called a signal to communicate information to the process. When a process receives a signal it stops its execution, deals with the signal and potentially changes the flow of execution based on the information that the signal delivered. For this reason, signals are software interrupts.\n",
    "\n",
    "In our case, when typing Ctrl-C this prompts the shell to deliver a SIGINT signal to the process.\n",
    "\n",
    "Here’s a minimal example of a Python program that captures SIGINT and ignores it, no longer stopping. To kill this program we can now use the SIGQUIT signal instead, by typing Ctrl-\\\\.  \n",
    "```\n",
    "#!/usr/bin/env python\n",
    "import signal, time\n",
    "\n",
    "def handler(signum, time):\n",
    "    print(\"\\nI got a SIGINT, but I am not stopping\")\n",
    "\n",
    "signal.signal(signal.SIGINT, handler)\n",
    "i = 0\n",
    "while True:\n",
    "    time.sleep(.1)\n",
    "    print(\"\\r{}\".format(i), end=\"\")\n",
    "    i += 1\n",
    "```\n",
    "Here’s what happens if we send SIGINT twice to this program, followed by SIGQUIT. Note that ^ is how Ctrl is displayed when typed in the terminal.\n",
    "```\n",
    "$ python sigint.py\n",
    "24^C\n",
    "I got a SIGINT, but I am not stopping\n",
    "26^C\n",
    "I got a SIGINT, but I am not stopping\n",
    "30^\\[1]    39913 quit       python sigint.py\n",
    "```\n",
    "\n",
    "While SIGINT and SIGQUIT are both usually associated with terminal related requests, a more generic signal for asking a process to exit gracefully is the SIGTERM signal. To send this signal we can use the kill command, with the syntax kill -TERM <PID>.  "
   ]
  },
  {
   "cell_type": "markdown",
   "metadata": {},
   "source": [
    "#### Pausing and backgrounding processes    \n",
    "Signals can do other things beyond killing a process. For instance, **SIGSTOP** pauses a process. In the terminal, typing Ctrl-Z will prompt the shell to send a **SIGTSTP** signal, short for Terminal Stop (i.e. the terminal’s version of **SIGSTOP**).  \n",
    "\n",
    "We can then continue the paused job in the foreground or in the background using fg or bg, respectively.  \n",
    "The jobs command lists the unfinished jobs associated with the current terminal session. You can refer to those jobs using their pid (you can use pgrep to find that out). More intuitively, you can also refer to a process using the percent symbol followed by its job number (displayed by jobs). To refer to the last backgrounded job you can use the $! special parameter.  \n",
    "\n",
    "One more thing to know is that the & suffix in a command will run the command in the background, giving you the prompt back, although it will still use the shell’s **STDOUT** which can be annoying (use shell redirections in that case).  \n",
    "\n",
    "To background an already running program you can do Ctrl-Z followed by bg. Note that backgrounded processes are still children processes of your terminal and will die if you close the terminal (this will send yet another signal, SIGHUP). To prevent that from happening you can run the program with nohup (a wrapper to ignore SIGHUP), or use disown if the process has already been started. Alternatively, you can use a terminal multiplexer as we will see in the next section.\n",
    "\n",
    "Below is a sample session to showcase some of these concepts.\n",
    "```\n",
    "$ sleep 1000\n",
    "^Z\n",
    "[1]  + 18653 suspended  sleep 1000\n",
    "\n",
    "$ nohup sleep 2000 &\n",
    "[2] 18745\n",
    "appending output to nohup.out\n",
    "\n",
    "$ jobs\n",
    "[1]  + suspended  sleep 1000\n",
    "[2]  - running    nohup sleep 2000\n",
    "\n",
    "$ bg %1\n",
    "[1]  - 18653 continued  sleep 1000\n",
    "\n",
    "$ jobs\n",
    "[1]  - running    sleep 1000\n",
    "[2]  + running    nohup sleep 2000\n",
    "\n",
    "$ kill -STOP %1\n",
    "[1]  + 18653 suspended (signal)  sleep 1000\n",
    "\n",
    "$ jobs\n",
    "[1]  + suspended (signal)  sleep 1000\n",
    "[2]  - running    nohup sleep 2000\n",
    "\n",
    "$ kill -SIGHUP %1\n",
    "[1]  + 18653 hangup     sleep 1000\n",
    "\n",
    "$ jobs\n",
    "[2]  + running    nohup sleep 2000\n",
    "\n",
    "$ kill -SIGHUP %2\n",
    "\n",
    "$ jobs\n",
    "[2]  + running    nohup sleep 2000\n",
    "\n",
    "$ kill %2\n",
    "[2]  + 18745 terminated  nohup sleep 2000\n",
    "\n",
    "$ jobs\n",
    "```"
   ]
  },
  {
   "cell_type": "markdown",
   "metadata": {},
   "source": [
    "### Aliases"
   ]
  },
  {
   "cell_type": "code",
   "execution_count": null,
   "metadata": {
    "collapsed": true
   },
   "outputs": [],
   "source": []
  }
 ],
 "metadata": {
  "kernelspec": {
   "display_name": "Python [conda env:py36]",
   "language": "python",
   "name": "conda-env-py36-py"
  },
  "language_info": {
   "codemirror_mode": {
    "name": "ipython",
    "version": 3
   },
   "file_extension": ".py",
   "mimetype": "text/x-python",
   "name": "python",
   "nbconvert_exporter": "python",
   "pygments_lexer": "ipython3",
   "version": "3.6.7"
  },
  "toc": {
   "base_numbering": 1,
   "nav_menu": {},
   "number_sections": true,
   "sideBar": true,
   "skip_h1_title": false,
   "title_cell": "Table of Contents",
   "title_sidebar": "Contents",
   "toc_cell": false,
   "toc_position": {
    "height": "calc(100% - 180px)",
    "left": "10px",
    "top": "150px",
    "width": "191px"
   },
   "toc_section_display": true,
   "toc_window_display": true
  },
  "varInspector": {
   "cols": {
    "lenName": 16,
    "lenType": 16,
    "lenVar": 40
   },
   "kernels_config": {
    "python": {
     "delete_cmd_postfix": "",
     "delete_cmd_prefix": "del ",
     "library": "var_list.py",
     "varRefreshCmd": "print(var_dic_list())"
    },
    "r": {
     "delete_cmd_postfix": ") ",
     "delete_cmd_prefix": "rm(",
     "library": "var_list.r",
     "varRefreshCmd": "cat(var_dic_list()) "
    }
   },
   "types_to_exclude": [
    "module",
    "function",
    "builtin_function_or_method",
    "instance",
    "_Feature"
   ],
   "window_display": false
  }
 },
 "nbformat": 4,
 "nbformat_minor": 2
}
